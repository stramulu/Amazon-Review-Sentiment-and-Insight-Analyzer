{
 "cells": [
  {
   "cell_type": "markdown",
   "id": "71a4ccce",
   "metadata": {},
   "source": [
    "# **Model Prototyping**\n",
    "\n",
    "In this file, we test Hugging Face transformers on a sample of our reviews, to check their suitability."
   ]
  },
  {
   "cell_type": "markdown",
   "id": "42e1f9dc",
   "metadata": {},
   "source": [
    "### Import Libraries"
   ]
  },
  {
   "cell_type": "code",
   "execution_count": 24,
   "id": "0c640545",
   "metadata": {},
   "outputs": [],
   "source": [
    "import pandas as pd \n",
    "import numpy as np\n",
    "import matplotlib.pyplot as plt\n",
    "import seaborn as sns\n",
    "import time\n",
    "import re\n",
    "import json\n",
    "from sentence_transformers import SentenceTransformer\n",
    "from sklearn.metrics import accuracy_score, f1_score\n",
    "from transformers import pipeline\n",
    "from sklearn.metrics.pairwise import cosine_similarity"
   ]
  },
  {
   "cell_type": "markdown",
   "id": "5cac3f66",
   "metadata": {},
   "source": [
    "### Sample Our Reviews & Create Binary Sentiment Value"
   ]
  },
  {
   "cell_type": "code",
   "execution_count": 17,
   "id": "32a1f526",
   "metadata": {},
   "outputs": [],
   "source": [
    "# We sample 5000 of our reviews\n",
    "df = pd.read_csv('../data/Reviews.csv')\n",
    "df = df.sample(5000, random_state=42)\n",
    "\n",
    "# Map star ratings to binary sentiment (neg=1-2, pos=4-5)\n",
    "def map_sentiment(score):\n",
    "    if score <= 2: return \"NEGATIVE\"\n",
    "    if score >= 4: return \"POSITIVE\"\n",
    "    return None  # ignore neutral 3-star reviews\n",
    "\n",
    "df[\"label\"] = df[\"Score\"].apply(map_sentiment)\n",
    "df = df.dropna(subset=[\"label\"])\n",
    "\n",
    "# Create review and label lists\n",
    "reviews = df[\"Text\"].tolist()\n",
    "labels = df[\"label\"].tolist()"
   ]
  },
  {
   "cell_type": "markdown",
   "id": "82c3e2ea",
   "metadata": {},
   "source": [
    "### Iteratively Test Sentiment Models"
   ]
  },
  {
   "cell_type": "code",
   "execution_count": 18,
   "id": "d1a42720",
   "metadata": {},
   "outputs": [],
   "source": [
    "sentiment_models = {\n",
    "    \"distilbert-sst2\": \"distilbert-base-uncased-finetuned-sst-2-english\",\n",
    "    \"roberta-twitter\": \"cardiffnlp/twitter-roberta-base-sentiment\",\n",
    "    \"bert-5star\": \"nlptown/bert-base-multilingual-uncased-sentiment\"\n",
    "}\n",
    "results_sentiment = []"
   ]
  },
  {
   "cell_type": "code",
   "execution_count": 19,
   "id": "6615fa82",
   "metadata": {},
   "outputs": [
    {
     "name": "stdout",
     "output_type": "stream",
     "text": [
      "\n",
      "Testing distilbert-sst2...\n",
      "\n",
      "Testing roberta-twitter...\n",
      "\n",
      "Testing bert-5star...\n"
     ]
    },
    {
     "data": {
      "text/html": [
       "<div>\n",
       "<style scoped>\n",
       "    .dataframe tbody tr th:only-of-type {\n",
       "        vertical-align: middle;\n",
       "    }\n",
       "\n",
       "    .dataframe tbody tr th {\n",
       "        vertical-align: top;\n",
       "    }\n",
       "\n",
       "    .dataframe thead th {\n",
       "        text-align: right;\n",
       "    }\n",
       "</style>\n",
       "<table border=\"1\" class=\"dataframe\">\n",
       "  <thead>\n",
       "    <tr style=\"text-align: right;\">\n",
       "      <th></th>\n",
       "      <th>Model</th>\n",
       "      <th>Accuracy</th>\n",
       "      <th>F1</th>\n",
       "      <th>Time (s)</th>\n",
       "    </tr>\n",
       "  </thead>\n",
       "  <tbody>\n",
       "    <tr>\n",
       "      <th>0</th>\n",
       "      <td>distilbert-sst2</td>\n",
       "      <td>0.828000</td>\n",
       "      <td>0.887728</td>\n",
       "      <td>16.620344</td>\n",
       "    </tr>\n",
       "    <tr>\n",
       "      <th>1</th>\n",
       "      <td>roberta-twitter</td>\n",
       "      <td>0.000000</td>\n",
       "      <td>0.000000</td>\n",
       "      <td>31.197147</td>\n",
       "    </tr>\n",
       "    <tr>\n",
       "      <th>2</th>\n",
       "      <td>bert-5star</td>\n",
       "      <td>0.925193</td>\n",
       "      <td>0.954301</td>\n",
       "      <td>32.546389</td>\n",
       "    </tr>\n",
       "  </tbody>\n",
       "</table>\n",
       "</div>"
      ],
      "text/plain": [
       "             Model  Accuracy        F1   Time (s)\n",
       "0  distilbert-sst2  0.828000  0.887728  16.620344\n",
       "1  roberta-twitter  0.000000  0.000000  31.197147\n",
       "2       bert-5star  0.925193  0.954301  32.546389"
      ]
     },
     "execution_count": 19,
     "metadata": {},
     "output_type": "execute_result"
    }
   ],
   "source": [
    "for name, model_id in sentiment_models.items():\n",
    "    print(f\"\\nTesting {name}...\")\n",
    "    clf = pipeline(\"sentiment-analysis\", model=model_id)\n",
    "\n",
    "    start = time.time()\n",
    "    preds = []\n",
    "    true_labels = []\n",
    "    for i, r in enumerate(reviews[:1000]):  # test on 1k reviews for speed\n",
    "        out = clf(r[:512])[0][\"label\"]  # truncate long reviews\n",
    "        # Map 5-star model output to POS/NEG if needed\n",
    "        if name == \"bert-5star\":\n",
    "            if out in [\"1 star\", \"2 stars\"]:\n",
    "                out = \"NEGATIVE\"\n",
    "            elif out in [\"4 stars\", \"5 stars\"]:\n",
    "                out = \"POSITIVE\"\n",
    "            else:\n",
    "                continue\n",
    "        preds.append(out)\n",
    "        true_labels.append(labels[i])\n",
    "\n",
    "    duration = time.time() - start\n",
    "    acc = accuracy_score(true_labels, preds)\n",
    "    # Use 'binary' only if there are exactly 2 unique classes, else use 'macro'\n",
    "    unique_labels = set(true_labels) | set(preds)\n",
    "    if len(unique_labels) == 2:\n",
    "        f1 = f1_score(true_labels, preds, pos_label=\"POSITIVE\", average=\"binary\")\n",
    "    else:\n",
    "        f1 = f1_score(true_labels, preds, average=\"macro\")\n",
    "\n",
    "    results_sentiment.append((name, acc, f1, duration))\n",
    "\n",
    "pd.DataFrame(results_sentiment, columns=[\"Model\", \"Accuracy\", \"F1\", \"Time (s)\"])"
   ]
  },
  {
   "cell_type": "markdown",
   "id": "0db16f77",
   "metadata": {},
   "source": [
    "Here, we see that bert-5star performed by far the best, but was far slower than other models. If we need a quick option, we can use distilbert-sst2 instead."
   ]
  },
  {
   "cell_type": "markdown",
   "id": "fd0a6972",
   "metadata": {},
   "source": [
    "### Iteratively Test Summarizer Models"
   ]
  },
  {
   "cell_type": "code",
   "execution_count": 20,
   "id": "9a50d08b",
   "metadata": {},
   "outputs": [],
   "source": [
    "summarizers = {\n",
    "    \"bart-large\": \"facebook/bart-large-cnn\",\n",
    "    \"t5-small\": \"t5-small\",\n",
    "    \"pegasus\": \"google/pegasus-xsum\"\n",
    "}\n",
    "sample_long_reviews = [r for r in reviews if len(r.split()) > 80][:3]"
   ]
  },
  {
   "cell_type": "code",
   "execution_count": 21,
   "id": "f0875178",
   "metadata": {},
   "outputs": [
    {
     "name": "stdout",
     "output_type": "stream",
     "text": [
      "\n",
      "Testing bart-large...\n",
      "\n",
      "Review snippet: Having tried a couple of other brands of gluten-free sandwich cookies, these are the best of the bunch.  They're crunchy and true to the texture of the other \"real\" cookies that aren't gluten-free.  S...\n",
      "→ Summary: Glutino's gluten-free sandwich cookies are the best of the bunch. They're crunchy and true to the texture of the other \"real\" cookies. The chocolate version is just as good and has a true \"chocolatey\" taste.\n",
      "\n",
      "Review snippet: My cat loves these treats. If ever I can't find her in the house, I just pop the top and she bolts out of wherever she was hiding to come get a treat. She doesn't like crunchy treats much, so these ar...\n",
      "→ Summary: My cat loves these treats. If ever I can't find her in the house, I just pop the top and she bolts out of wherever she was hiding to come get a treat. They do tend to dry out by the time I near the end of the bottle, however.\n",
      "\n",
      "Review snippet: First there was Frosted Mini-Wheats, in original size, then there was Frosted Mini-Wheats Bite Size. Well, if for some reason those were too much of a mouthful, we now have Frosted Mini-Wheats Little ...\n",
      "→ Summary: Frosted Mini-Wheats Little Bits are about half the size of the Bite Size versions. Cinnamon Roll flavor is sweet and has a synthetic taste to it.\n",
      "\n",
      "Testing t5-small...\n",
      "\n",
      "Review snippet: Having tried a couple of other brands of gluten-free sandwich cookies, these are the best of the bunch.  They're crunchy and true to the texture of the other \"real\" cookies that aren't gluten-free.  S...\n",
      "→ Summary: gluten-free sandwich cookies are the best of the bunch . they're crunchy and true to the texture of other \"real\" cookies . the chocolate version from Glutino is just as good .\n",
      "\n",
      "Review snippet: My cat loves these treats. If ever I can't find her in the house, I just pop the top and she bolts out of wherever she was hiding to come get a treat. She doesn't like crunchy treats much, so these ar...\n",
      "→ Summary: the flip-top lid is very handy . I have yet to meet a cat that doesn't love these .\n",
      "\n",
      "Review snippet: First there was Frosted Mini-Wheats, in original size, then there was Frosted Mini-Wheats Bite Size. Well, if for some reason those were too much of a mouthful, we now have Frosted Mini-Wheats Little ...\n",
      "→ Summary: these are half the size of the Bite Size versions . they come off as a desperate attempt to give attention to a brand that needs a life put back into it .\n",
      "\n",
      "Testing pegasus...\n"
     ]
    },
    {
     "name": "stderr",
     "output_type": "stream",
     "text": [
      "Some weights of PegasusForConditionalGeneration were not initialized from the model checkpoint at google/pegasus-xsum and are newly initialized: ['model.encoder.embed_positions.weight', 'model.decoder.embed_positions.weight']\n",
      "You should probably TRAIN this model on a down-stream task to be able to use it for predictions and inference.\n"
     ]
    },
    {
     "name": "stdout",
     "output_type": "stream",
     "text": [
      "\n",
      "Review snippet: Having tried a couple of other brands of gluten-free sandwich cookies, these are the best of the bunch.  They're crunchy and true to the texture of the other \"real\" cookies that aren't gluten-free.  S...\n",
      "→ Summary: I'm a huge fan of Glutino's gluten-free chocolate chip cookies.\n",
      "\n",
      "Review snippet: My cat loves these treats. If ever I can't find her in the house, I just pop the top and she bolts out of wherever she was hiding to come get a treat. She doesn't like crunchy treats much, so these ar...\n",
      "→ Summary: These cat treats come in three different sizes, so you can find one for your cat, one for your dog, and one for your ferret.\n",
      "\n",
      "Review snippet: First there was Frosted Mini-Wheats, in original size, then there was Frosted Mini-Wheats Bite Size. Well, if for some reason those were too much of a mouthful, we now have Frosted Mini-Wheats Little ...\n",
      "→ Summary: Kellogs, the makers of Frosted Mini-Wheats, have been rolling out a series of smaller versions of their famous biscuits over the last few years.\n"
     ]
    }
   ],
   "source": [
    "for name, model_id in summarizers.items():\n",
    "    print(f\"\\nTesting {name}...\")\n",
    "    summarizer = pipeline(\"summarization\", model=model_id)\n",
    "\n",
    "    for text in sample_long_reviews:\n",
    "        summary = summarizer(text, max_length=60, min_length=15, do_sample=False)[0][\"summary_text\"]\n",
    "        print(f\"\\nReview snippet: {text[:200]}...\")\n",
    "        print(f\"→ Summary: {summary}\")"
   ]
  },
  {
   "cell_type": "markdown",
   "id": "bc538421",
   "metadata": {},
   "source": [
    "We can see that bart-large had the most accurate and on-topic summaries."
   ]
  },
  {
   "cell_type": "markdown",
   "id": "75b6e487",
   "metadata": {},
   "source": [
    "### Iteratively Test Embedding Models"
   ]
  },
  {
   "cell_type": "code",
   "execution_count": 22,
   "id": "a922c7f0",
   "metadata": {},
   "outputs": [],
   "source": [
    "embed_models = {\n",
    "    \"miniLM\": \"all-MiniLM-L6-v2\",\n",
    "    \"mpnet\": \"all-mpnet-base-v2\",\n",
    "    \"multi-qa\": \"multi-qa-MiniLM-L6-cos-v1\"\n",
    "}\n",
    "sample_queries = [\n",
    "    \"taste great\",\n",
    "    \"energy boost\",\n",
    "    \"too sweet\"\n",
    "]"
   ]
  },
  {
   "cell_type": "code",
   "execution_count": 23,
   "id": "b76e2f60",
   "metadata": {},
   "outputs": [
    {
     "name": "stdout",
     "output_type": "stream",
     "text": [
      "\n",
      "Testing miniLM...\n"
     ]
    },
    {
     "data": {
      "application/vnd.jupyter.widget-view+json": {
       "model_id": "fe36811d72824d9eacd280af28789d61",
       "version_major": 2,
       "version_minor": 0
      },
      "text/plain": [
       "Batches:   0%|          | 0/63 [00:00<?, ?it/s]"
      ]
     },
     "metadata": {},
     "output_type": "display_data"
    },
    {
     "name": "stdout",
     "output_type": "stream",
     "text": [
      "Embeddings shape: (2000, 384), Time: 9.56s\n",
      "Query match: These taste wonderful. And they are at an amazing price, compared to what I can get them for at my local walmart....\n",
      "Query match: Excellent taste, quality is great. Love that they are all natural organic and at the price, a bargain! I will definitely order these again....\n",
      "Query match: The best I can say is that the taste is quite origonal and unique.If you want the best and dont mind paying fot it then this is for you.<br /><br />The bad part is the large cost of the product.But, i...\n",
      "Query match: this flavor is soooo good!its very smooth and the flavor is not too strong. its just good! its a regular in our house now. everyone loves it....\n",
      "Query match: I have always loved this product. It taste great but the shipping cost is too expensive. It is alot cheaper going to the store and buying it that way you wont have to pay for shipping....\n",
      "\n",
      "Testing mpnet...\n"
     ]
    },
    {
     "data": {
      "application/vnd.jupyter.widget-view+json": {
       "model_id": "35cebbb96c37486ca2ef2aaba5e10b3d",
       "version_major": 2,
       "version_minor": 0
      },
      "text/plain": [
       "Batches:   0%|          | 0/63 [00:00<?, ?it/s]"
      ]
     },
     "metadata": {},
     "output_type": "display_data"
    },
    {
     "name": "stdout",
     "output_type": "stream",
     "text": [
      "Embeddings shape: (2000, 768), Time: 38.55s\n",
      "Query match: The best I can say is that the taste is quite origonal and unique.If you want the best and dont mind paying fot it then this is for you.<br /><br />The bad part is the large cost of the product.But, i...\n",
      "Query match: The taste just isn't good enough to fit the price.  Overpriced, not healthy enough for that \"organic and good for you!\" price and the taste didn't impress anyone in my family including a slew of teena...\n",
      "Query match: The fact that I ordered myself a case of these rather speaks for itself.  I consider myself somewhat of a connoisseur of offbeat snack foods, and these are my favorite of all time.  Slightly sweet, sl...\n",
      "Query match: and I want to congratulate the graphic artist for putting the entire product name on such a small box.  The ad men must have really thought long and hard.<br /><br />But seriously, I love the product....\n",
      "Query match: This flavor tastes very good. Great product!!! I subscribed to receive one box every 6 months, very convenient and great service....\n",
      "\n",
      "Testing multi-qa...\n"
     ]
    },
    {
     "data": {
      "application/vnd.jupyter.widget-view+json": {
       "model_id": "8d39284dc49b4784b44f18491ca80a4c",
       "version_major": 2,
       "version_minor": 0
      },
      "text/plain": [
       "Batches:   0%|          | 0/63 [00:00<?, ?it/s]"
      ]
     },
     "metadata": {},
     "output_type": "display_data"
    },
    {
     "name": "stdout",
     "output_type": "stream",
     "text": [
      "Embeddings shape: (2000, 384), Time: 11.07s\n",
      "Query match: These taste wonderful. And they are at an amazing price, compared to what I can get them for at my local walmart....\n",
      "Query match: The best I can say is that the taste is quite origonal and unique.If you want the best and dont mind paying fot it then this is for you.<br /><br />The bad part is the large cost of the product.But, i...\n",
      "Query match: Excellent taste, quality is great. Love that they are all natural organic and at the price, a bargain! I will definitely order these again....\n",
      "Query match: I have always loved this product. It taste great but the shipping cost is too expensive. It is alot cheaper going to the store and buying it that way you wont have to pay for shipping....\n",
      "Query match: this flavor is soooo good!its very smooth and the flavor is not too strong. its just good! its a regular in our house now. everyone loves it....\n"
     ]
    }
   ],
   "source": [
    "for name, model_id in embed_models.items():\n",
    "    print(f\"\\nTesting {name}...\")\n",
    "    model = SentenceTransformer(model_id)\n",
    "\n",
    "    start = time.time()\n",
    "    review_embeds = model.encode(reviews[:2000], show_progress_bar=True)\n",
    "    query_embeds = model.encode(sample_queries)\n",
    "    duration = time.time() - start\n",
    "\n",
    "    print(f\"Embeddings shape: {review_embeds.shape}, Time: {duration:.2f}s\")\n",
    "\n",
    "    # Quick cosine similarity check for first query\n",
    "    sims = cosine_similarity([query_embeds[0]], review_embeds)[0]\n",
    "    top_idx = sims.argsort()[-5:][::-1]\n",
    "    for idx in top_idx:\n",
    "        print(f\"Query match: {reviews[idx][:200]}...\")"
   ]
  },
  {
   "cell_type": "markdown",
   "id": "aae44c82",
   "metadata": {},
   "source": [
    "miniLM provides speed and matches that are alright. mpnet is the slowest option, but gives more descriptive matches. multi-qa gives a balance of speed and descriptiveness, making it an ideal choice."
   ]
  },
  {
   "cell_type": "markdown",
   "id": "c9c5b8cb",
   "metadata": {},
   "source": [
    "### Model Choices"
   ]
  },
  {
   "cell_type": "markdown",
   "id": "70c3acba",
   "metadata": {},
   "source": [
    "- **Sentiment Model:** bert-5star\n",
    "- **Summarizer Model:** bart-large\n",
    "- **Embedding Model:** multi-qa"
   ]
  },
  {
   "cell_type": "code",
   "execution_count": 25,
   "id": "c3ce900f",
   "metadata": {},
   "outputs": [],
   "source": [
    "# create JSON file for quick use\n",
    "\n",
    "# create the JSON file itself\n",
    "config = {\n",
    "    \"sentiment_model\": \"nlptown/bert-base-multilingual-uncased-sentiment\",\n",
    "    \"summarizer_model\": \"facebook/bart-large-cnn\",\n",
    "    \"embedding_model\": \"multi-qa-MiniLM-L6-cos-v1\"\n",
    "}\n",
    "\n",
    "# Save to config.json\n",
    "with open(\"config.json\", \"w\") as f:\n",
    "    json.dump(config, f, indent=2)"
   ]
  }
 ],
 "metadata": {
  "kernelspec": {
   "display_name": "venv",
   "language": "python",
   "name": "python3"
  },
  "language_info": {
   "codemirror_mode": {
    "name": "ipython",
    "version": 3
   },
   "file_extension": ".py",
   "mimetype": "text/x-python",
   "name": "python",
   "nbconvert_exporter": "python",
   "pygments_lexer": "ipython3",
   "version": "3.10.0"
  }
 },
 "nbformat": 4,
 "nbformat_minor": 5
}
