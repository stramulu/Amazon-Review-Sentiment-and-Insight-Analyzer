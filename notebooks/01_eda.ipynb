{
 "cells": [
  {
   "cell_type": "markdown",
   "id": "264b4f31",
   "metadata": {},
   "source": [
    "# **Exploratory Data Analysis**\n",
    "\n",
    "Here, we analyze the Reviews.csv file, gaining an understanding of the reviews dataset and its quality."
   ]
  },
  {
   "cell_type": "markdown",
   "id": "327c1018",
   "metadata": {},
   "source": [
    "### Import Libraries & Data"
   ]
  },
  {
   "cell_type": "code",
   "execution_count": 49,
   "id": "c2096e2f",
   "metadata": {},
   "outputs": [],
   "source": [
    "import pandas as pd\n",
    "import numpy as np\n",
    "import matplotlib.pyplot as plt\n",
    "import seaborn as sns\n",
    "import re\n",
    "import spacy \n",
    "\n",
    "from sklearn.feature_extraction.text import CountVectorizer\n",
    "from sklearn.feature_extraction.text import TfidfVectorizer"
   ]
  },
  {
   "cell_type": "code",
   "execution_count": 50,
   "id": "5aa49f91",
   "metadata": {},
   "outputs": [],
   "source": [
    "df = pd.read_csv('../data/Reviews.csv')"
   ]
  },
  {
   "cell_type": "markdown",
   "id": "b8fa3e62",
   "metadata": {},
   "source": [
    "### Checks"
   ]
  },
  {
   "cell_type": "code",
   "execution_count": 51,
   "id": "9a055b7c",
   "metadata": {},
   "outputs": [
    {
     "name": "stdout",
     "output_type": "stream",
     "text": [
      "<class 'pandas.core.frame.DataFrame'>\n",
      "RangeIndex: 568454 entries, 0 to 568453\n",
      "Data columns (total 10 columns):\n",
      " #   Column                  Non-Null Count   Dtype \n",
      "---  ------                  --------------   ----- \n",
      " 0   Id                      568454 non-null  int64 \n",
      " 1   ProductId               568454 non-null  object\n",
      " 2   UserId                  568454 non-null  object\n",
      " 3   ProfileName             568428 non-null  object\n",
      " 4   HelpfulnessNumerator    568454 non-null  int64 \n",
      " 5   HelpfulnessDenominator  568454 non-null  int64 \n",
      " 6   Score                   568454 non-null  int64 \n",
      " 7   Time                    568454 non-null  int64 \n",
      " 8   Summary                 568427 non-null  object\n",
      " 9   Text                    568454 non-null  object\n",
      "dtypes: int64(5), object(5)\n",
      "memory usage: 43.4+ MB\n",
      "None\n"
     ]
    }
   ],
   "source": [
    "print(df.info())"
   ]
  },
  {
   "cell_type": "code",
   "execution_count": 52,
   "id": "f676249a",
   "metadata": {},
   "outputs": [
    {
     "name": "stdout",
     "output_type": "stream",
     "text": [
      "                  Id  HelpfulnessNumerator  HelpfulnessDenominator  \\\n",
      "count  568454.000000         568454.000000            568454.00000   \n",
      "mean   284227.500000              1.743817                 2.22881   \n",
      "std    164098.679298              7.636513                 8.28974   \n",
      "min         1.000000              0.000000                 0.00000   \n",
      "25%    142114.250000              0.000000                 0.00000   \n",
      "50%    284227.500000              0.000000                 1.00000   \n",
      "75%    426340.750000              2.000000                 2.00000   \n",
      "max    568454.000000            866.000000               923.00000   \n",
      "\n",
      "               Score          Time  \n",
      "count  568454.000000  5.684540e+05  \n",
      "mean        4.183199  1.296257e+09  \n",
      "std         1.310436  4.804331e+07  \n",
      "min         1.000000  9.393408e+08  \n",
      "25%         4.000000  1.271290e+09  \n",
      "50%         5.000000  1.311120e+09  \n",
      "75%         5.000000  1.332720e+09  \n",
      "max         5.000000  1.351210e+09  \n"
     ]
    }
   ],
   "source": [
    "print(df.describe())"
   ]
  },
  {
   "cell_type": "code",
   "execution_count": 53,
   "id": "72d415ec",
   "metadata": {},
   "outputs": [
    {
     "name": "stdout",
     "output_type": "stream",
     "text": [
      "Dataframe Shape:\n",
      "(568454, 10)\n"
     ]
    }
   ],
   "source": [
    "print(\"Dataframe Shape:\")\n",
    "print(df.shape)"
   ]
  },
  {
   "cell_type": "code",
   "execution_count": 54,
   "id": "0b65d11a",
   "metadata": {},
   "outputs": [
    {
     "name": "stdout",
     "output_type": "stream",
     "text": [
      "Dataframe Columns:\n",
      "Index(['Id', 'ProductId', 'UserId', 'ProfileName', 'HelpfulnessNumerator',\n",
      "       'HelpfulnessDenominator', 'Score', 'Time', 'Summary', 'Text'],\n",
      "      dtype='object')\n"
     ]
    }
   ],
   "source": [
    "print(\"Dataframe Columns:\")\n",
    "print(df.columns)"
   ]
  },
  {
   "cell_type": "code",
   "execution_count": 55,
   "id": "13b3da6e",
   "metadata": {},
   "outputs": [
    {
     "name": "stdout",
     "output_type": "stream",
     "text": [
      "Dataframe Head:\n",
      "   Id   ProductId          UserId                      ProfileName  \\\n",
      "0   1  B001E4KFG0  A3SGXH7AUHU8GW                       delmartian   \n",
      "1   2  B00813GRG4  A1D87F6ZCVE5NK                           dll pa   \n",
      "2   3  B000LQOCH0   ABXLMWJIXXAIN  Natalia Corres \"Natalia Corres\"   \n",
      "3   4  B000UA0QIQ  A395BORC6FGVXV                             Karl   \n",
      "4   5  B006K2ZZ7K  A1UQRSCLF8GW1T    Michael D. Bigham \"M. Wassir\"   \n",
      "\n",
      "   HelpfulnessNumerator  HelpfulnessDenominator  Score        Time  \\\n",
      "0                     1                       1      5  1303862400   \n",
      "1                     0                       0      1  1346976000   \n",
      "2                     1                       1      4  1219017600   \n",
      "3                     3                       3      2  1307923200   \n",
      "4                     0                       0      5  1350777600   \n",
      "\n",
      "                 Summary                                               Text  \n",
      "0  Good Quality Dog Food  I have bought several of the Vitality canned d...  \n",
      "1      Not as Advertised  Product arrived labeled as Jumbo Salted Peanut...  \n",
      "2  \"Delight\" says it all  This is a confection that has been around a fe...  \n",
      "3         Cough Medicine  If you are looking for the secret ingredient i...  \n",
      "4            Great taffy  Great taffy at a great price.  There was a wid...  \n"
     ]
    }
   ],
   "source": [
    "print(\"Dataframe Head:\")\n",
    "print(df.head())"
   ]
  },
  {
   "cell_type": "code",
   "execution_count": 56,
   "id": "de9fbda7",
   "metadata": {},
   "outputs": [
    {
     "name": "stdout",
     "output_type": "stream",
     "text": [
      "Missing Values:\n",
      "Id                         0\n",
      "ProductId                  0\n",
      "UserId                     0\n",
      "ProfileName               26\n",
      "HelpfulnessNumerator       0\n",
      "HelpfulnessDenominator     0\n",
      "Score                      0\n",
      "Time                       0\n",
      "Summary                   27\n",
      "Text                       0\n",
      "dtype: int64\n"
     ]
    }
   ],
   "source": [
    "print(\"Missing Values:\")\n",
    "print(df.isnull().sum())"
   ]
  },
  {
   "cell_type": "markdown",
   "id": "7c85cacd",
   "metadata": {},
   "source": [
    "Very minimal missing information, we can drop all rows with missing values later on with no concerns."
   ]
  },
  {
   "cell_type": "code",
   "execution_count": 57,
   "id": "32808c36",
   "metadata": {},
   "outputs": [
    {
     "name": "stdout",
     "output_type": "stream",
     "text": [
      "Duplicate Values:\n",
      "0\n"
     ]
    }
   ],
   "source": [
    "print(\"Duplicate Values:\")\n",
    "print(df.duplicated().sum())"
   ]
  },
  {
   "cell_type": "code",
   "execution_count": 58,
   "id": "f5b50b4c",
   "metadata": {},
   "outputs": [
    {
     "name": "stdout",
     "output_type": "stream",
     "text": [
      "How Many Products are there in the dataset:\n",
      "74258\n",
      "\n"
     ]
    }
   ],
   "source": [
    "print(\"How Many Products are there in the dataset:\")\n",
    "print(len(df[\"ProductId\"].unique()))\n",
    "print()"
   ]
  },
  {
   "cell_type": "markdown",
   "id": "5e0c79e7",
   "metadata": {},
   "source": [
    "### Understanding Our Features"
   ]
  },
  {
   "cell_type": "code",
   "execution_count": 59,
   "id": "a01b20aa",
   "metadata": {},
   "outputs": [
    {
     "name": "stdout",
     "output_type": "stream",
     "text": [
      "count    568454.000000\n",
      "mean        436.222083\n",
      "std         445.339741\n",
      "min          12.000000\n",
      "25%         179.000000\n",
      "50%         302.000000\n",
      "75%         527.000000\n",
      "max       21409.000000\n",
      "Name: review_length, dtype: float64\n"
     ]
    },
    {
     "data": {
      "image/png": "[encoded data removed]",
      "text/plain": [
       "<Figure size 640x480 with 1 Axes>"
      ]
     },
     "metadata": {},
     "output_type": "display_data"
    }
   ],
   "source": [
    "# Analyze review length\n",
    "\n",
    "df[\"review_length\"] = df[\"Text\"].astype(str).apply(len)\n",
    "print(df[\"review_length\"].describe())\n",
    "\n",
    "df[\"review_length\"].hist(bins=50)\n",
    "plt.title(\"Review Length Distribution\")\n",
    "plt.xlabel(\"Characters\")\n",
    "plt.ylabel(\"Count\")\n",
    "plt.show()"
   ]
  },
  {
   "cell_type": "code",
   "execution_count": 60,
   "id": "aeeae62d",
   "metadata": {},
   "outputs": [
    {
     "data": {
      "text/plain": [
       "<Axes: title={'center': 'Distribution of Ratings (1-5)'}, xlabel='Score'>"
      ]
     },
     "execution_count": 60,
     "metadata": {},
     "output_type": "execute_result"
    },
    {
     "data": {
      "image/png": "[encoded data removed]",
      "text/plain": [
       "<Figure size 640x480 with 1 Axes>"
      ]
     },
     "metadata": {},
     "output_type": "display_data"
    }
   ],
   "source": [
    "# Analyze score distribution\n",
    "df[\"Score\"].value_counts().sort_index().plot(\n",
    "    kind=\"bar\", title=\"Distribution of Ratings (1-5)\"\n",
    ")"
   ]
  },
  {
   "cell_type": "code",
   "execution_count": 61,
   "id": "de51fc7a",
   "metadata": {},
   "outputs": [
    {
     "data": {
      "text/plain": [
       "Text(0, 0.5, 'Count')"
      ]
     },
     "execution_count": 61,
     "metadata": {},
     "output_type": "execute_result"
    },
    {
     "data": {
      "image/png": "[encoded data removed]",
      "text/plain": [
       "<Figure size 640x480 with 1 Axes>"
      ]
     },
     "metadata": {},
     "output_type": "display_data"
    }
   ],
   "source": [
    "# Analyze review helpfulness\n",
    "df[\"helpfulness_ratio\"] = df[\"HelpfulnessNumerator\"] / df[\"HelpfulnessDenominator\"].replace(0, 1)\n",
    "df[\"helpfulness_ratio\"].hist(bins=20)\n",
    "plt.title(\"Helpfulness Ratio Distribution\")\n",
    "plt.xlim(0, 1)\n",
    "plt.xlabel(\"Ratio\")\n",
    "plt.ylabel(\"Count\")"
   ]
  },
  {
   "cell_type": "code",
   "execution_count": 62,
   "id": "1cb459ee",
   "metadata": {},
   "outputs": [
    {
     "name": "stdout",
     "output_type": "stream",
     "text": [
      "Top positive bigrams: ['gluten free', 'great product', 'highly recommend', 'really good', 'subscribe save', 'taste great', 'taste like', 'tastes great', 've tried', 'year old']\n",
      "\n",
      "Top negative bigrams: ['don know', 'don think', 'gluten free', 'taste good', 'taste like', 'tasted like', 've tried', 'waste money']\n"
     ]
    }
   ],
   "source": [
    "# Top Bigrams in Positive Reviews & Negative Reviews\n",
    "\n",
    "# Clean the review text\n",
    "def clean_text(text):\n",
    "    text = str(text).lower()\n",
    "    text = re.sub(r\"http\\S+|www\\S+|https\\S+\", \" \", text)  # remove URLs\n",
    "    text = re.sub(r\"<.*?>\", \" \", text)                    # remove HTML tags\n",
    "    text = re.sub(r\"[^a-z\\s]\", \" \", text)                 # keep only letters\n",
    "    text = re.sub(r\"\\s+\", \" \", text).strip()              # remove extra spaces\n",
    "    return text\n",
    "df[\"clean_text\"] = df[\"Text\"].apply(clean_text)\n",
    "\n",
    "# Positive reviews (>=4 stars)\n",
    "pos_reviews = df[df[\"Score\"] >= 4][\"clean_text\"]\n",
    "pos_vectorizer = TfidfVectorizer(\n",
    "    stop_words=\"english\",\n",
    "    ngram_range=(2, 2),\n",
    "    max_features=20\n",
    ")\n",
    "pos_vec = pos_vectorizer.fit_transform(pos_reviews)\n",
    "top_pos = pos_vectorizer.get_feature_names_out()\n",
    "\n",
    "# Negative reviews (<=2 stars)\n",
    "neg_reviews = df[df[\"Score\"] <= 2][\"clean_text\"]\n",
    "neg_vectorizer = TfidfVectorizer(\n",
    "    stop_words=\"english\",\n",
    "    ngram_range=(2, 2),\n",
    "    max_features=20\n",
    ")\n",
    "neg_vec = neg_vectorizer.fit_transform(neg_reviews)\n",
    "top_neg = neg_vectorizer.get_feature_names_out()\n",
    "\n",
    "# Keep only opinion-bearing bigrams (removes bigrams like (dog, food))\n",
    "nlp = spacy.load(\"en_core_web_sm\")\n",
    "def keep_opinion_bigrams(bigrams):\n",
    "    opinion_bigrams = []\n",
    "    for phrase in bigrams:\n",
    "        doc = nlp(phrase)\n",
    "        if any(tok.pos_ == \"ADJ\" for tok in doc) or any(tok.pos_ == \"VERB\" for tok in doc):\n",
    "            opinion_bigrams.append(phrase)\n",
    "    return opinion_bigrams\n",
    "top_pos_bigrams = keep_opinion_bigrams(top_pos)\n",
    "top_neg_bigrams = keep_opinion_bigrams(top_neg)\n",
    "\n",
    "# Output the top bigrams\n",
    "print(\"Top positive bigrams:\", top_pos_bigrams[:20])\n",
    "print()\n",
    "print(\"Top negative bigrams:\", top_neg_bigrams[:20])"
   ]
  }
 ],
 "metadata": {
  "kernelspec": {
   "display_name": "venv",
   "language": "python",
   "name": "python3"
  },
  "language_info": {
   "codemirror_mode": {
    "name": "ipython",
    "version": 3
   },
   "file_extension": ".py",
   "mimetype": "text/x-python",
   "name": "python",
   "nbconvert_exporter": "python",
   "pygments_lexer": "ipython3",
   "version": "3.10.0"
  }
 },
 "nbformat": 4,
 "nbformat_minor": 5
}
